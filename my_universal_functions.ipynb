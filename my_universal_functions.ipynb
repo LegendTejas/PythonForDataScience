{
  "nbformat": 4,
  "nbformat_minor": 0,
  "metadata": {
    "colab": {
      "provenance": [],
      "authorship_tag": "ABX9TyMDoV5ooGZVJfyD5H4xN26t",
      "include_colab_link": true
    },
    "kernelspec": {
      "name": "python3",
      "display_name": "Python 3"
    },
    "language_info": {
      "name": "python"
    }
  },
  "cells": [
    {
      "cell_type": "markdown",
      "metadata": {
        "id": "view-in-github",
        "colab_type": "text"
      },
      "source": [
        "<a href=\"https://colab.research.google.com/github/LegendTejas/PythonForDataScience/blob/main/my_universal_functions.ipynb\" target=\"_parent\"><img src=\"https://colab.research.google.com/assets/colab-badge.svg\" alt=\"Open In Colab\"/></a>"
      ]
    },
    {
      "cell_type": "code",
      "execution_count": null,
      "metadata": {
        "id": "_eNdNaJrTSYf"
      },
      "outputs": [],
      "source": [
        "def checkIfNotNumeric(*args):\n",
        "   returnVal = True\n",
        "   for x in args:\n",
        "    if not(isinstance(x, (int, float))):\n",
        "      return False\n",
        "   return True\n",
        "\n",
        "def addAllNumerics(*args):\n",
        "  s = 0\n",
        "  for x in args:\n",
        "    s += x\n",
        "  return s\n",
        "\n",
        "myName = \"Python\""
      ]
    }
  ]
}